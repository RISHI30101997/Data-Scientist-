{
 "cells": [
  {
   "cell_type": "code",
   "execution_count": 76,
   "id": "58d0fb64",
   "metadata": {},
   "outputs": [],
   "source": [
    "import sqlite3 as sql \n",
    "import tkinter as tk\n",
    "import tkinter.ttk as ttk\n",
    "import tkinter.messagebox as mb\n",
    "import tkinter.simpledialog as sd\n",
    "from tkinter import *\n",
    "from tkinter import font\n",
    "from turtle import bgcolor\n",
    "\n",
    "\n",
    "root=Tk()\n",
    "root.title('.....Library Management Application.....')\n",
    "\n",
    "\n",
    "def Database():\n",
    "    global conn,cursor\n",
    "    conn=sql.connect('simple.db')\n",
    "    cursor=conn,cursor()\n",
    "    cursor.execute('CREATE TABLE IF NOT EXISTS (Bookname TEXT,Author TEXT,Year INTEGER, ISBN INTEGER)')\n",
    "def create():\n",
    "    if BOOKNAME.get()==\"\" or AUTHOR.get()==\"\" or YEAR.get() ==\"\" or ISBN.get()==\"\":\n",
    "        txt_result.config(text='Please Enter all the fields',fd='red')\n",
    "    else:\n",
    "        Database()\n",
    "        cursor.execute('INSERT INTO(Bookname,Author,Year,ISBN))VALUES(?,?,?,?),str(BOOKNAME.get()),str(AUTHOR.get()),int(YEAR.get()),int(ISBN.get())')\n",
    "        conn.commit()\n",
    "        Bookname.set(\"\")\n",
    "        Author.set(\"\")\n",
    "        Year.set(\"\") \n",
    "        ISBN.set(\"\")\n",
    "        cursor.close()\n",
    "        conn.close()\n",
    "        txt_result.config(text='Record Inserted !',fg='green')\n",
    "def Read():\n",
    "    tree.delete(*tree.get_children)\n",
    "    Database()\n",
    "    currsor.execute('SELECT * FROM Bookname ORDERED BY Author ASC ')\n",
    "    fetch=cursor.fetchall()\n",
    "    for data in fetch:\n",
    "        tree.insert('','end',values=(data[1],data[2],data[3],data[4],data[5],data[6]))\n",
    "        cursor.close()\n",
    "        txt_result.config(text='Successfully fetched data !',fg='black')\n",
    "def Exit():\n",
    "    result=tkMessageBox.askquestion('Do you want to Exit ?(y/n)',icon='warning')\n",
    "    if result == 'yes':\n",
    "        root.destroy()\n",
    "        exit()\n",
    "\n",
    "    \n"
   ]
  },
  {
   "cell_type": "code",
   "execution_count": 77,
   "id": "f99ff009",
   "metadata": {},
   "outputs": [],
   "source": [
    "#variables declaration\n",
    "BOOKNAME=StringVar()\n",
    "AUTHOR=StringVar()\n",
    "YEAR=IntVar() \n",
    "ISBN=IntVar()\n"
   ]
  },
  {
   "cell_type": "code",
   "execution_count": 78,
   "id": "316beb84",
   "metadata": {},
   "outputs": [],
   "source": [
    "#FRAMES\n",
    "Top = Frame(root,width=900,height=50,bd=8,relief='raise')\n",
    "Top.pack(side=TOP)\n",
    "Left=Frame(root,width=300,height=500,bd=8,relief='raise')\n",
    "Left.pack(side=LEFT)\n",
    "Right=Frame(root,width=600,height=500,bd=8,relief='raise')\n",
    "Left.pack(side=RIGHT)\n",
    "\n",
    "Forms=Frame(Left,width=300,height=450)\n",
    "Forms.pack(side=TOP)"
   ]
  },
  {
   "cell_type": "code",
   "execution_count": 79,
   "id": "57d9c23e",
   "metadata": {},
   "outputs": [],
   "source": [
    "#Buttons\n",
    "Buttons=Frame(Left,width=300,height=100,bd=8,relief='raise')\n",
    "Buttons.pack(side=BOTTOM)"
   ]
  },
  {
   "cell_type": "code",
   "execution_count": 80,
   "id": "85891fd7",
   "metadata": {},
   "outputs": [],
   "source": [
    "#Labels\n",
    "txt_title=Label(Top,width=900,font=('arial',24),text='.....Library Management Application.....')\n",
    "txt_title.pack()\n",
    "txt_Bookname=Label(Forms,text='Bookname',font=('arial',16),bd=15)\n",
    "txt_Bookname.grid(row=0,stick='e')\n",
    "txt_Author=Label(Forms,text='Author',font=('arial',16),bd=15)\n",
    "txt_Author.grid(row=1,stick='e')\n",
    "txt_Year=Label(Forms,text='Year',font=('arial',16),bd=15)\n",
    "txt_Year.grid(row=2,stick='e')\n",
    "txt_ISBN=Label(Forms,text='ISBN',font=('arial',16),bd=15)\n",
    "txt_ISBN.grid(row=3,stick='e')\n",
    "txt_result=Label(Buttons)\n",
    "txt_result.pack(side=TOP)"
   ]
  },
  {
   "cell_type": "code",
   "execution_count": 81,
   "id": "b146a639",
   "metadata": {},
   "outputs": [],
   "source": [
    "#Entery widgets\n",
    "Bookname=Entry(Forms,textvariable=BOOKNAME,width=30)\n",
    "Bookname.grid(row=0,column=1)\n",
    "Author=Entry(Forms,textvariable=AUTHOR,width=30)\n",
    "Author.grid(row=1,column=1)\n",
    "Year=Entry(Forms,textvariable=YEAR,width=30)\n",
    "Year.grid(row=2,column=1)\n",
    "ISBN=Entry(Forms,textvariable=ISBN,width=30)\n",
    "ISBN.grid(row=1,column=1)"
   ]
  },
  {
   "cell_type": "code",
   "execution_count": 82,
   "id": "56b7caaa",
   "metadata": {},
   "outputs": [
    {
     "ename": "NameError",
     "evalue": "name 'Display' is not defined",
     "output_type": "error",
     "traceback": [
      "\u001b[1;31m---------------------------------------------------------------------------\u001b[0m",
      "\u001b[1;31mNameError\u001b[0m                                 Traceback (most recent call last)",
      "Input \u001b[1;32mIn [82]\u001b[0m, in \u001b[0;36m<cell line: 2>\u001b[1;34m()\u001b[0m\n\u001b[0;32m      1\u001b[0m \u001b[38;5;66;03m#Button widgets\u001b[39;00m\n\u001b[1;32m----> 2\u001b[0m btn_display\u001b[38;5;241m=\u001b[39mButton(Buttons,width\u001b[38;5;241m=\u001b[39m\u001b[38;5;241m10\u001b[39m,text\u001b[38;5;241m=\u001b[39m\u001b[38;5;124m'\u001b[39m\u001b[38;5;124mDisplay\u001b[39m\u001b[38;5;124m'\u001b[39m,command\u001b[38;5;241m=\u001b[39m\u001b[43mDisplay\u001b[49m)\n\u001b[0;32m      3\u001b[0m btn_display\u001b[38;5;241m.\u001b[39mpack(side\u001b[38;5;241m=\u001b[39mLEFT)\n\u001b[0;32m      4\u001b[0m btn_search\u001b[38;5;241m=\u001b[39mButton(Buttons,width\u001b[38;5;241m=\u001b[39m\u001b[38;5;241m10\u001b[39m,text\u001b[38;5;241m=\u001b[39m\u001b[38;5;124m'\u001b[39m\u001b[38;5;124mSearch\u001b[39m\u001b[38;5;124m'\u001b[39m,command\u001b[38;5;241m=\u001b[39mSearch)\n",
      "\u001b[1;31mNameError\u001b[0m: name 'Display' is not defined"
     ]
    }
   ],
   "source": [
    "#Button widgets\n",
    "btn_display=Button(Buttons,width=10,text='Display',command=Display)\n",
    "btn_display.pack(side=LEFT)\n",
    "btn_search=Button(Buttons,width=10,text='Search',command=Search)\n",
    "btn_search.pack(side=LEFT)\n",
    "btn_add=Button(Buttons,width=10,text='Add',command=Add)\n",
    "btn_add.pack(side=LEFT)\n",
    "btn_issue=Button(Buttons,width=10,text='Issue',command=Issue)\n",
    "btn_issue.pack(side=LEFT)                     \n",
    "btn_delete=Button(Buttons,width=10,text='Delete',command=Delete)\n",
    "btn_delete.pack(side=LEFT)                     \n",
    "btn_exit=Button(Buttons,width=10,text='Exit',command=Exit)\n",
    "btn_exit.pack(side=LEFT)  "
   ]
  },
  {
   "cell_type": "code",
   "execution_count": 87,
   "id": "7c223af5",
   "metadata": {},
   "outputs": [],
   "source": [
    "#list widgets\n",
    "scrollbary=Scrollbar(Right,orient=VERTICAL)\n",
    "scrollbarX=Scrollbar(Right,orient=HORIZONTAL)\n",
    "tree=ttk.Treeview(Right,columns=('Bookname','Author','Year','ISBN'))\n",
    "scrollbary.config(command=tree.yview)\n",
    "scrollbary.pack(side=RIGHT,fill=Y)\n",
    "scrollbarX.config(command=tree.xview)\n",
    "scrollbarX.pack(side=BOTTOM,fill=X)\n",
    "\n"
   ]
  },
  {
   "cell_type": "code",
   "execution_count": 88,
   "id": "223f818d",
   "metadata": {},
   "outputs": [],
   "source": [
    "\n",
    "if __name__=='__mainloop__':\n",
    "     root.mainloop()"
   ]
  },
  {
   "cell_type": "code",
   "execution_count": null,
   "id": "c62dedf5",
   "metadata": {},
   "outputs": [],
   "source": []
  },
  {
   "cell_type": "code",
   "execution_count": null,
   "id": "56194145",
   "metadata": {},
   "outputs": [],
   "source": []
  }
 ],
 "metadata": {
  "kernelspec": {
   "display_name": "Python 3 (ipykernel)",
   "language": "python",
   "name": "python3"
  },
  "language_info": {
   "codemirror_mode": {
    "name": "ipython",
    "version": 3
   },
   "file_extension": ".py",
   "mimetype": "text/x-python",
   "name": "python",
   "nbconvert_exporter": "python",
   "pygments_lexer": "ipython3",
   "version": "3.9.12"
  }
 },
 "nbformat": 4,
 "nbformat_minor": 5
}
